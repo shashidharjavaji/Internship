{
 "cells": [
  {
   "cell_type": "code",
   "execution_count": 1,
   "metadata": {},
   "outputs": [],
   "source": [
    "import os\n",
    "import shutil\n",
    "\n",
    "# Define the directory where your files are currently located\n",
    "source_dir = '/home/gottfried/Downloads/ASNR-MICCAI-BraTS2023-PED-Challenge-TrainingData/'\n",
    "\n",
    "# Define target directories\n",
    "target_dirs = {\n",
    "    'seg': 'pediatric_modalities/seg',\n",
    "    't1c': 'pediatric_modalities/t1c',\n",
    "    't1n': 'pediatric_modalities/t1n',\n",
    "    't2f': 'pediatric_modalities/t2f',\n",
    "    't2w': 'pediatric_modalities/t2w'\n",
    "}\n",
    "\n",
    "# Ensure target directories exist, if not create them\n",
    "for directory in target_dirs.values():\n",
    "    os.makedirs(directory, exist_ok=True)\n",
    "\n",
    "# Walk through source directory, and move files to respective target directory\n",
    "for subdir, dirs, files in os.walk(source_dir):\n",
    "    for file in files:\n",
    "        # We only want to move certain files\n",
    "        if file.endswith('.nii.gz'):\n",
    "            for key in target_dirs.keys():\n",
    "                if '-' + key + '.' in file:\n",
    "                    shutil.move(os.path.join(subdir, file), os.path.join(target_dirs[key], file))\n",
    "                    break\n"
   ]
  },
  {
   "cell_type": "code",
   "execution_count": null,
   "metadata": {},
   "outputs": [],
   "source": []
  }
 ],
 "metadata": {
  "kernelspec": {
   "display_name": "Python 3",
   "language": "python",
   "name": "python3"
  },
  "language_info": {
   "codemirror_mode": {
    "name": "ipython",
    "version": 3
   },
   "file_extension": ".py",
   "mimetype": "text/x-python",
   "name": "python",
   "nbconvert_exporter": "python",
   "pygments_lexer": "ipython3",
   "version": "3.8.10"
  }
 },
 "nbformat": 4,
 "nbformat_minor": 4
}
