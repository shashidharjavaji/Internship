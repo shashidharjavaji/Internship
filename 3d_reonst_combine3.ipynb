{
 "cells": [
  {
   "cell_type": "code",
   "execution_count": 1,
   "metadata": {},
   "outputs": [],
   "source": [
    "import nibabel as nib\n",
    "import numpy as np\n"
   ]
  },
  {
   "cell_type": "code",
   "execution_count": 2,
   "metadata": {},
   "outputs": [],
   "source": [
    "img1 = nib.load('BraTS-PED-00002-000-t1c.nii.gz_segmentation(8).nii.gz')\n",
    "img2 = nib.load(\"BraTS-PED-00002-000-t1c.nii.gz_segmentation(7).nii.gz\")\n",
    "img3 = nib.load(\"BraTS-PED-00002-000-t1c.nii.gz_segmentation(6).nii.gz\")"
   ]
  },
  {
   "cell_type": "code",
   "execution_count": 3,
   "metadata": {},
   "outputs": [],
   "source": [
    "data1 = img1.get_fdata()\n",
    "data2 = img2.get_fdata()\n",
    "data3 = img3.get_fdata()"
   ]
  },
  {
   "cell_type": "code",
   "execution_count": 7,
   "metadata": {},
   "outputs": [
    {
     "data": {
      "text/plain": [
       "(240, 240, 155)"
      ]
     },
     "execution_count": 7,
     "metadata": {},
     "output_type": "execute_result"
    }
   ],
   "source": [
    "data1.shape"
   ]
  },
  {
   "cell_type": "code",
   "execution_count": 11,
   "metadata": {},
   "outputs": [
    {
     "name": "stderr",
     "output_type": "stream",
     "text": [
      "<ipython-input-11-ecb30116f723>:23: FutureWarning: Unlike other reduction functions (e.g. `skew`, `kurtosis`), the default behavior of `mode` typically preserves the axis it acts along. In SciPy 1.11.0, this behavior will change: the default value of `keepdims` will become False, the `axis` over which the statistic is taken will be eliminated, and the value None will no longer be accepted. Set `keepdims` to True or False to avoid this warning.\n",
      "  final_segmentation = mode(combined_preds, axis=0)[0][0]\n"
     ]
    }
   ],
   "source": [
    "import nibabel as nib\n",
    "import numpy as np\n",
    "from scipy.ndimage import zoom\n",
    "from scipy.stats import mode\n",
    "\n",
    "# Load your pre-trained models' predictions\n",
    "axial_preds = img1.get_fdata()\n",
    "coronal_preds = img2.get_fdata()\n",
    "sagittal_preds = img3.get_fdata()\n",
    "\n",
    "# Let's assume the dimensions of the original MRI are:\n",
    "original_shape = (240, 240, 155)  # Adjust as per your data\n",
    "\n",
    "# Rescale the predictions to the original dimensions:\n",
    "rescaled_axial = axial_preds\n",
    "rescaled_coronal = coronal_preds\n",
    "rescaled_sagittal = sagittal_preds\n",
    "\n",
    "# Combine the three predictions\n",
    "combined_preds = np.stack([rescaled_axial, rescaled_coronal, rescaled_sagittal])\n",
    "\n",
    "# Create the final segmentation by taking the majority vote\n",
    "final_segmentation = mode(combined_preds, axis=0, keepdims = True)[0][0]\n",
    "\n",
    "# Create a Nifti image from the final segmentation\n",
    "# In your case, you might want to use the affine and header from one of the loaded NIfTI images\n",
    "final_seg_nifti = nib.Nifti1Image(final_segmentation, affine=img1.affine, header=img1.header)\n",
    "\n",
    "# Save the final segmentation\n",
    "nib.save(final_seg_nifti, \"final_segmentation.nii.gz\")\n"
   ]
  },
  {
   "cell_type": "code",
   "execution_count": null,
   "metadata": {},
   "outputs": [],
   "source": []
  }
 ],
 "metadata": {
  "kernelspec": {
   "display_name": "Python 3",
   "language": "python",
   "name": "python3"
  },
  "language_info": {
   "codemirror_mode": {
    "name": "ipython",
    "version": 3
   },
   "file_extension": ".py",
   "mimetype": "text/x-python",
   "name": "python",
   "nbconvert_exporter": "python",
   "pygments_lexer": "ipython3",
   "version": "3.8.10"
  }
 },
 "nbformat": 4,
 "nbformat_minor": 4
}
